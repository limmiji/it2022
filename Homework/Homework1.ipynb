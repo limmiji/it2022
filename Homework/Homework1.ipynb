{
 "cells": [
  {
   "cell_type": "code",
   "execution_count": 1,
   "metadata": {},
   "outputs": [],
   "source": [
    "import numpy as np\n",
    "import cv2"
   ]
  },
  {
   "cell_type": "code",
   "execution_count": 2,
   "metadata": {},
   "outputs": [],
   "source": [
    "img = cv2.imread('beach.jpg')\n",
    "ix, iy = 0, 0\n",
    "drawing = False\n",
    "mode = True"
   ]
  },
  {
   "cell_type": "code",
   "execution_count": 7,
   "metadata": {},
   "outputs": [],
   "source": [
    "cv2.imshow('image', img)\n",
    "cv2.waitKey(0)\n",
    "cv2.destroyAllWindows()"
   ]
  },
  {
   "cell_type": "markdown",
   "metadata": {},
   "source": [
    "Homework 1 (~ 10/6) : trackbar, color chanel, text, box selection"
   ]
  },
  {
   "cell_type": "code",
   "execution_count": 13,
   "metadata": {},
   "outputs": [],
   "source": [
    "from multiprocessing import Value\n",
    "from turtle import circle\n",
    "\n",
    "# mouse callback function\n",
    "def draw_rectangle(event,x,y,flags,param):\n",
    "    global ix,iy,drawing,mode,img\n",
    "    text = \"Mouse position : (\" + str(ix) + \",\" + str(iy) + \") - (\" + str(x) + \",\" + str(y) + \")\"\n",
    "    if event == cv2.EVENT_LBUTTONDOWN:\n",
    "        drawing = True\n",
    "        ix,iy = x,y\n",
    "        cv2.putText(img, text, (0,40), font, 1, (255,255,255), 1, cv2.LINE_AA)\n",
    "    elif event == cv2.EVENT_MOUSEMOVE:\n",
    "        if drawing == True:\n",
    "            if mode == True:\n",
    "                img = cv2.imread('beach.jpg')\n",
    "                cv2.rectangle(img,(ix,iy), (x,y), (0,0,255), -1)\n",
    "                cv2.putText(img, text, (0,40), font, 1, (255,255,255), 1, cv2.LINE_AA)\n",
    "            else:\n",
    "                cv2.circle(img,(x,y), 5, (255,0,0), -1)\n",
    "                \n",
    "    elif event == cv2.EVENT_LBUTTONUP:\n",
    "        drawing = False\n",
    "        cv2.rectangle(img, (ix,iy), (x,y), (0,0,255), -1)\n",
    "        cv2.putText(img, text, (0, 40), font, 1, (255,255,255), 1, cv2.LINE_AA)\n",
    "\n",
    "def nothing(x):\n",
    "    pass\n",
    "\n",
    "font = cv2.FONT_HERSHEY_SIMPLEX\n",
    "\n",
    "cv2.namedWindow('Homework1')\n",
    "cv2.setMouseCallback('Homework1',draw_rectangle)\n",
    "cv2.createTrackbar('Value', 'Homework1', 0, 255, nothing)     # 옵션 순서(\"트랙바 이름\", \"윈도우창 제목\", 최솟값, 최댓값, 콜백함수)\n",
    "\n",
    "while(1):\n",
    "    output = cv2.imread('beach.jpg')\n",
    "    Value = cv2.getTrackbarPos('Value', 'Homework1')\n",
    "    dst = cv2.addWeighted(img, Value/255, output, 0.5, -Value/255, 0.5)\n",
    "    cv2.imshow('Homework1', dst)\n",
    "    k = cv2.waitKey(1) & 0xFF\n",
    "    if k == ord('m'):\n",
    "        mode = not mode\n",
    "    elif k == 27:\n",
    "        break\n",
    "\n",
    "        \n",
    "cv2.destroyAllWindows()"
   ]
  }
 ],
 "metadata": {
  "kernelspec": {
   "display_name": "Python 3.8.13 ('opencv')",
   "language": "python",
   "name": "python3"
  },
  "language_info": {
   "codemirror_mode": {
    "name": "ipython",
    "version": 3
   },
   "file_extension": ".py",
   "mimetype": "text/x-python",
   "name": "python",
   "nbconvert_exporter": "python",
   "pygments_lexer": "ipython3",
   "version": "3.8.13"
  },
  "orig_nbformat": 4,
  "vscode": {
   "interpreter": {
    "hash": "11cbc37953458db8cc84651dea9b571d4e79ff46efd216ba914e86c04a65cc16"
   }
  }
 },
 "nbformat": 4,
 "nbformat_minor": 2
}
