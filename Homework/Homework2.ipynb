{
 "cells": [
  {
   "cell_type": "code",
   "execution_count": 2,
   "metadata": {},
   "outputs": [],
   "source": [
    "import cv2\n",
    "import numpy as np"
   ]
  },
  {
   "cell_type": "code",
   "execution_count": 14,
   "metadata": {},
   "outputs": [],
   "source": [
    "cap = cv2.VideoCapture('homework2.avi')\n",
    "\n",
    "while(1):\n",
    "    # Take each frame\n",
    "    ret, frame = cap.read()\n",
    "\n",
    "    if ret :\n",
    "        hsv = cv2.cvtColor(frame, cv2.COLOR_BGR2HSV)\n",
    "\n",
    "        # define range of yellow color in HSV\n",
    "        lower_green = np.array([90, 50, 50])\n",
    "        upper_green = np.array([160, 255, 255])\n",
    "\n",
    "        mask = cv2.inRange(hsv, lower_green, upper_green)\n",
    "\n",
    "        # Bitwise-AND mask and original image  \n",
    "        res = cv2.bitwise_and(frame,frame, mask= mask)\n",
    "\n",
    "        cv2.imshow('frame',frame)\n",
    "        cv2.imshow('mask',mask)\n",
    "        cv2.imshow('res',res)\n",
    "    \n",
    "    else :\n",
    "        break\n",
    "    \n",
    "    k = cv2.waitKey(5) & 0xFF\n",
    "\n",
    "    if k == 27:\n",
    "        break\n",
    "\n",
    "cv2.destroyAllWindows()"
   ]
  }
 ],
 "metadata": {
  "kernelspec": {
   "display_name": "Python 3.8.13 ('opencv')",
   "language": "python",
   "name": "python3"
  },
  "language_info": {
   "codemirror_mode": {
    "name": "ipython",
    "version": 3
   },
   "file_extension": ".py",
   "mimetype": "text/x-python",
   "name": "python",
   "nbconvert_exporter": "python",
   "pygments_lexer": "ipython3",
   "version": "3.8.13"
  },
  "orig_nbformat": 4,
  "vscode": {
   "interpreter": {
    "hash": "11cbc37953458db8cc84651dea9b571d4e79ff46efd216ba914e86c04a65cc16"
   }
  }
 },
 "nbformat": 4,
 "nbformat_minor": 2
}
